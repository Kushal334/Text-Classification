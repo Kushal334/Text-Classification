{
  "nbformat": 4,
  "nbformat_minor": 0,
  "metadata": {
    "colab": {
      "name": "HAN.ipynb",
      "version": "0.3.2",
      "views": {},
      "default_view": {},
      "provenance": []
    },
    "kernelspec": {
      "name": "python3",
      "display_name": "Python 3"
    }
  },
  "cells": [
    {
      "metadata": {
        "id": "qktAMHpzO2Pa",
        "colab_type": "code",
        "colab": {
          "autoexec": {
            "startup": false,
            "wait_interval": 0
          }
        }
      },
      "cell_type": "code",
      "source": [
        "import numpy as np\n",
        "import pandas as pd\n",
        "import pickle\n",
        "from collections import defaultdict\n",
        "import re\n",
        "from bs4 import BeautifulSoup\n",
        "import sys\n",
        "import os\n",
        "os.environ['KERAS_BACKEND']='theano'\n",
        "from keras.preprocessing.text import Tokenizer,text_to_word_sequence\n",
        "from keras.preprocessing.sequence import pad_sequences\n",
        "from keras.utils.np_utils import to_categorical\n",
        "from keras.layers import Embedding\n",
        "from keras.layers import Dense, Input, Flatten\n",
        "from keras.layers import Conv1D, MaxPooling1D, Embedding, Dropout, LSTM, GRU, Bidirectional, TimeDistributed\n",
        "from keras.models import Model\n",
        "from keras.callbacks import ModelCheckpoint\n",
        "import matplotlib.pyplot as plt\n",
        "plt.switch_backend('agg')\n",
        "from keras import backend as K\n",
        "from keras.engine.topology import Layer, InputSpec\n",
        "from keras import initializers\n",
        "%matplotlib inline"
      ],
      "execution_count": 0,
      "outputs": []
    },
    {
      "metadata": {
        "id": "dYh0z7QmO4Fd",
        "colab_type": "code",
        "colab": {
          "autoexec": {
            "startup": false,
            "wait_interval": 0
          }
        }
      },
      "cell_type": "code",
      "source": [
        "def clean_str(string):\n",
        "    string = re.sub(r\"\\\\\", \"\", string)\n",
        "    string = re.sub(r\"\\'\", \"\", string)\n",
        "    string = re.sub(r\"\\\"\", \"\", string)\n",
        "    return string.strip().lower()"
      ],
      "execution_count": 0,
      "outputs": []
    },
    {
      "metadata": {
        "id": "Ojcss8mgPVu1",
        "colab_type": "code",
        "colab": {
          "autoexec": {
            "startup": false,
            "wait_interval": 0
          }
        }
      },
      "cell_type": "code",
      "source": [
        "MAX_SENT_LENGTH = 100\n",
        "MAX_SENTS = 15\n",
        "MAX_NB_WORDS = 20000\n",
        "EMBEDDING_DIM = 100\n",
        "VALIDATION_SPLIT = 0.2"
      ],
      "execution_count": 0,
      "outputs": []
    },
    {
      "metadata": {
        "id": "HwpX0l5_PX6P",
        "colab_type": "code",
        "colab": {
          "autoexec": {
            "startup": false,
            "wait_interval": 0
          },
          "base_uri": "https://localhost:8080/",
          "height": 68
        },
        "outputId": "6752cb14-6065-454e-8ec1-5f1d07713469",
        "executionInfo": {
          "status": "ok",
          "timestamp": 1530792394012,
          "user_tz": -330,
          "elapsed": 971,
          "user": {
            "displayName": "Akshat Maheshwari",
            "photoUrl": "//lh5.googleusercontent.com/-f-xJkriVoaI/AAAAAAAAAAI/AAAAAAAAAVQ/TLGa4qObGgQ/s50-c-k-no/photo.jpg",
            "userId": "114426356464940466000"
          }
        }
      },
      "cell_type": "code",
      "source": [
        "# reading data\n",
        "df = pd.read_excel('dataset.xlsx')\n",
        "df = df.dropna()\n",
        "df = df.reset_index(drop=True)\n",
        "print('Shape of dataset ',df.shape)\n",
        "print(df.columns)\n",
        "print('No. of unique classes',len(set(df['class'])))"
      ],
      "execution_count": 42,
      "outputs": [
        {
          "output_type": "stream",
          "text": [
            "Shape of dataset  (100, 2)\n",
            "Index(['message', 'class'], dtype='object')\n",
            "No. of unique classes 17\n"
          ],
          "name": "stdout"
        }
      ]
    },
    {
      "metadata": {
        "id": "BDWpT4AOPbKr",
        "colab_type": "code",
        "colab": {
          "autoexec": {
            "startup": false,
            "wait_interval": 0
          }
        }
      },
      "cell_type": "code",
      "source": [
        "import nltk\n",
        "from nltk import tokenize\n",
        "\n",
        "reviews = []\n",
        "labels = []\n",
        "texts = []"
      ],
      "execution_count": 0,
      "outputs": []
    },
    {
      "metadata": {
        "id": "s-XcxOfYPgvo",
        "colab_type": "code",
        "colab": {
          "autoexec": {
            "startup": false,
            "wait_interval": 0
          }
        }
      },
      "cell_type": "code",
      "source": [
        "macronum=sorted(set(df['class']))\n",
        "macro_to_id = dict((note, number) for number, note in enumerate(macronum))"
      ],
      "execution_count": 0,
      "outputs": []
    },
    {
      "metadata": {
        "id": "hQH-nqcHPkSS",
        "colab_type": "code",
        "colab": {
          "autoexec": {
            "startup": false,
            "wait_interval": 0
          }
        }
      },
      "cell_type": "code",
      "source": [
        "def fun(i):\n",
        "    return macro_to_id[i]\n",
        "\n",
        "df['class']=df['class'].apply(fun)"
      ],
      "execution_count": 0,
      "outputs": []
    },
    {
      "metadata": {
        "id": "CFQQzuHZPtD6",
        "colab_type": "code",
        "colab": {
          "autoexec": {
            "startup": false,
            "wait_interval": 0
          },
          "base_uri": "https://localhost:8080/",
          "height": 224
        },
        "outputId": "dc8d1570-1b81-47fd-c3d6-26068d8e603d",
        "executionInfo": {
          "status": "ok",
          "timestamp": 1530792399003,
          "user_tz": -330,
          "elapsed": 978,
          "user": {
            "displayName": "Akshat Maheshwari",
            "photoUrl": "//lh5.googleusercontent.com/-f-xJkriVoaI/AAAAAAAAAAI/AAAAAAAAAVQ/TLGa4qObGgQ/s50-c-k-no/photo.jpg",
            "userId": "114426356464940466000"
          }
        }
      },
      "cell_type": "code",
      "source": [
        "for i in range(df.message.shape[0]):\n",
        "    text = BeautifulSoup(df.message[i])\n",
        "    text=clean_str(str(text.get_text().encode()).lower())\n",
        "    texts.append(text)\n",
        "    sentences = tokenize.sent_tokenize(text)\n",
        "    reviews.append(sentences)\n",
        "\n",
        "\n",
        "for i in df['class']:\n",
        "    labels.append(i)"
      ],
      "execution_count": 46,
      "outputs": [
        {
          "output_type": "stream",
          "text": [
            "/usr/local/lib/python3.6/dist-packages/bs4/__init__.py:181: UserWarning: No parser was explicitly specified, so I'm using the best available HTML parser for this system (\"html5lib\"). This usually isn't a problem, but if you run this code on another system, or in a different virtual environment, it may use a different parser and behave differently.\n",
            "\n",
            "The code that caused this warning is on line 193 of the file /usr/lib/python3.6/runpy.py. To get rid of this warning, change code that looks like this:\n",
            "\n",
            " BeautifulSoup(YOUR_MARKUP})\n",
            "\n",
            "to this:\n",
            "\n",
            " BeautifulSoup(YOUR_MARKUP, \"html5lib\")\n",
            "\n",
            "  markup_type=markup_type))\n"
          ],
          "name": "stderr"
        }
      ]
    },
    {
      "metadata": {
        "id": "WzwyO0qxQC2z",
        "colab_type": "code",
        "colab": {
          "autoexec": {
            "startup": false,
            "wait_interval": 0
          }
        }
      },
      "cell_type": "code",
      "source": [
        "tokenizer = Tokenizer(num_words=MAX_NB_WORDS)\n",
        "tokenizer.fit_on_texts(texts)\n",
        "\n",
        "data = np.zeros((len(texts), MAX_SENTS, MAX_SENT_LENGTH), dtype='int32')\n",
        "\n",
        "for i, sentences in enumerate(reviews):\n",
        "    for j, sent in enumerate(sentences):\n",
        "        if j< MAX_SENTS:\n",
        "            wordTokens = text_to_word_sequence(sent)\n",
        "            k=0\n",
        "            for _, word in enumerate(wordTokens):\n",
        "                if k<MAX_SENT_LENGTH and tokenizer.word_index[word]<MAX_NB_WORDS:\n",
        "                    data[i,j,k] = tokenizer.word_index[word]\n",
        "                    k=k+1\n"
      ],
      "execution_count": 0,
      "outputs": []
    },
    {
      "metadata": {
        "id": "M9u7IPzpQU7K",
        "colab_type": "code",
        "colab": {
          "autoexec": {
            "startup": false,
            "wait_interval": 0
          },
          "base_uri": "https://localhost:8080/",
          "height": 34
        },
        "outputId": "c7d191a4-3fe0-4966-b743-399a094ec637",
        "executionInfo": {
          "status": "ok",
          "timestamp": 1530792401443,
          "user_tz": -330,
          "elapsed": 1092,
          "user": {
            "displayName": "Akshat Maheshwari",
            "photoUrl": "//lh5.googleusercontent.com/-f-xJkriVoaI/AAAAAAAAAAI/AAAAAAAAAVQ/TLGa4qObGgQ/s50-c-k-no/photo.jpg",
            "userId": "114426356464940466000"
          }
        }
      },
      "cell_type": "code",
      "source": [
        "word_index = tokenizer.word_index\n",
        "print('No. of %s unique tokens.' % len(word_index))"
      ],
      "execution_count": 48,
      "outputs": [
        {
          "output_type": "stream",
          "text": [
            "No. of 932 unique tokens.\n"
          ],
          "name": "stdout"
        }
      ]
    },
    {
      "metadata": {
        "id": "m-d7UKTIQcwp",
        "colab_type": "code",
        "colab": {
          "autoexec": {
            "startup": false,
            "wait_interval": 0
          },
          "base_uri": "https://localhost:8080/",
          "height": 51
        },
        "outputId": "c7a61c30-ecd3-467f-ee4e-39e883c865d3",
        "executionInfo": {
          "status": "ok",
          "timestamp": 1530792402941,
          "user_tz": -330,
          "elapsed": 1420,
          "user": {
            "displayName": "Akshat Maheshwari",
            "photoUrl": "//lh5.googleusercontent.com/-f-xJkriVoaI/AAAAAAAAAAI/AAAAAAAAAVQ/TLGa4qObGgQ/s50-c-k-no/photo.jpg",
            "userId": "114426356464940466000"
          }
        }
      },
      "cell_type": "code",
      "source": [
        "labels = to_categorical(np.asarray(labels))\n",
        "print('Shape of data tensor:', data.shape)\n",
        "print('Shape of label tensor:', labels.shape)\n",
        "\n",
        "\n",
        "indices = np.arange(data.shape[0])\n",
        "np.random.shuffle(indices)\n",
        "data = data[indices]\n",
        "labels = labels[indices]\n",
        "nb_validation_samples = int(VALIDATION_SPLIT * data.shape[0])"
      ],
      "execution_count": 49,
      "outputs": [
        {
          "output_type": "stream",
          "text": [
            "Shape of data tensor: (100, 15, 100)\n",
            "Shape of label tensor: (100, 17)\n"
          ],
          "name": "stdout"
        }
      ]
    },
    {
      "metadata": {
        "id": "Qx1U4OZiQgXV",
        "colab_type": "code",
        "colab": {
          "autoexec": {
            "startup": false,
            "wait_interval": 0
          }
        }
      },
      "cell_type": "code",
      "source": [
        "x_train = data[:-nb_validation_samples]\n",
        "y_train = labels[:-nb_validation_samples]\n",
        "x_val = data[-nb_validation_samples:]\n",
        "y_val = labels[-nb_validation_samples:]"
      ],
      "execution_count": 0,
      "outputs": []
    },
    {
      "metadata": {
        "id": "jaCt1zexQ7d2",
        "colab_type": "code",
        "colab": {
          "autoexec": {
            "startup": false,
            "wait_interval": 0
          },
          "base_uri": "https://localhost:8080/",
          "height": 34
        },
        "outputId": "8fb183ea-910e-4cab-fd75-7088cefe8f07",
        "executionInfo": {
          "status": "ok",
          "timestamp": 1530792416542,
          "user_tz": -330,
          "elapsed": 12425,
          "user": {
            "displayName": "Akshat Maheshwari",
            "photoUrl": "//lh5.googleusercontent.com/-f-xJkriVoaI/AAAAAAAAAAI/AAAAAAAAAVQ/TLGa4qObGgQ/s50-c-k-no/photo.jpg",
            "userId": "114426356464940466000"
          }
        }
      },
      "cell_type": "code",
      "source": [
        "embeddings_index = {}\n",
        "f = open('glove.6B.100d.txt',encoding='utf8')\n",
        "for line in f:\n",
        "    values = line.split()\n",
        "    word = values[0]\n",
        "    coefs = np.asarray(values[1:], dtype='float32')\n",
        "    embeddings_index[word] = coefs\n",
        "f.close()\n",
        "\n",
        "print('Total %s word vectors.' % len(embeddings_index))"
      ],
      "execution_count": 51,
      "outputs": [
        {
          "output_type": "stream",
          "text": [
            "Total 400000 word vectors.\n"
          ],
          "name": "stdout"
        }
      ]
    },
    {
      "metadata": {
        "id": "rUDWPQRvQ_B2",
        "colab_type": "code",
        "colab": {
          "autoexec": {
            "startup": false,
            "wait_interval": 0
          }
        }
      },
      "cell_type": "code",
      "source": [
        "embedding_matrix = np.random.random((len(word_index) + 1, EMBEDDING_DIM))\n",
        "for word, i in word_index.items():\n",
        "    embedding_vector = embeddings_index.get(word)\n",
        "    if embedding_vector is not None:\n",
        "        # words not found in embedding index will be all-zeros.\n",
        "        embedding_matrix[i] = embedding_vector\n",
        "\n",
        "embedding_layer = Embedding(len(word_index) + 1,\n",
        "                            EMBEDDING_DIM,\n",
        "                            weights=[embedding_matrix],\n",
        "                            input_length=MAX_SENT_LENGTH,\n",
        "                            trainable=True)"
      ],
      "execution_count": 0,
      "outputs": []
    },
    {
      "metadata": {
        "id": "zKz6YxXoRIEe",
        "colab_type": "code",
        "colab": {
          "autoexec": {
            "startup": false,
            "wait_interval": 0
          },
          "base_uri": "https://localhost:8080/",
          "height": 343
        },
        "outputId": "d99c8642-0990-4ff3-a351-69c63a41b636",
        "executionInfo": {
          "status": "ok",
          "timestamp": 1530792542554,
          "user_tz": -330,
          "elapsed": 124363,
          "user": {
            "displayName": "Akshat Maheshwari",
            "photoUrl": "//lh5.googleusercontent.com/-f-xJkriVoaI/AAAAAAAAAAI/AAAAAAAAAVQ/TLGa4qObGgQ/s50-c-k-no/photo.jpg",
            "userId": "114426356464940466000"
          }
        }
      },
      "cell_type": "code",
      "source": [
        "sentence_input = Input(shape=(MAX_SENT_LENGTH,), dtype='int32')\n",
        "embedded_sequences = embedding_layer(sentence_input)\n",
        "l_lstm = Bidirectional(LSTM(100))(embedded_sequences)\n",
        "sentEncoder = Model(sentence_input, l_lstm)\n",
        "\n",
        "review_input = Input(shape=(MAX_SENTS,MAX_SENT_LENGTH), dtype='int32')\n",
        "review_encoder = TimeDistributed(sentEncoder)(review_input)\n",
        "l_lstm_sent = Bidirectional(LSTM(100))(review_encoder)\n",
        "preds = Dense(len(macronum), activation='softmax')(l_lstm_sent)\n",
        "model = Model(review_input, preds)\n",
        "\n",
        "model.compile(loss='categorical_crossentropy',\n",
        "              optimizer='rmsprop',\n",
        "              metrics=['acc'])\n",
        "\n",
        "print(\"Hierachical LSTM\")\n",
        "model.summary()"
      ],
      "execution_count": 53,
      "outputs": [
        {
          "output_type": "stream",
          "text": [
            "INFO (theano.gof.compilelock): Waiting for existing lock by process '1011' (I am process '1779')\n",
            "INFO (theano.gof.compilelock): To manually release the lock, delete /content/.theano/compiledir_Linux-4.4.111+-x86_64-with-Ubuntu-17.10-artful-x86_64-3.6.3-64/lock_dir\n"
          ],
          "name": "stderr"
        },
        {
          "output_type": "stream",
          "text": [
            "Hierachical LSTM\n",
            "_________________________________________________________________\n",
            "Layer (type)                 Output Shape              Param #   \n",
            "=================================================================\n",
            "input_4 (InputLayer)         (None, 15, 100)           0         \n",
            "_________________________________________________________________\n",
            "time_distributed_1 (TimeDist (None, 15, 200)           254100    \n",
            "_________________________________________________________________\n",
            "bidirectional_2 (Bidirection (None, 200)               240800    \n",
            "_________________________________________________________________\n",
            "dense_1 (Dense)              (None, 17)                3417      \n",
            "=================================================================\n",
            "Total params: 498,317\n",
            "Trainable params: 498,317\n",
            "Non-trainable params: 0\n",
            "_________________________________________________________________\n"
          ],
          "name": "stdout"
        }
      ]
    },
    {
      "metadata": {
        "id": "EJKKRZnYRdIw",
        "colab_type": "code",
        "colab": {
          "autoexec": {
            "startup": false,
            "wait_interval": 0
          },
          "base_uri": "https://localhost:8080/",
          "height": 1074
        },
        "outputId": "fafa35cc-0396-41fb-8faf-d994c6279fa0",
        "executionInfo": {
          "status": "ok",
          "timestamp": 1530793151231,
          "user_tz": -330,
          "elapsed": 608660,
          "user": {
            "displayName": "Akshat Maheshwari",
            "photoUrl": "//lh5.googleusercontent.com/-f-xJkriVoaI/AAAAAAAAAAI/AAAAAAAAAVQ/TLGa4qObGgQ/s50-c-k-no/photo.jpg",
            "userId": "114426356464940466000"
          }
        }
      },
      "cell_type": "code",
      "source": [
        "cp=ModelCheckpoint('model_han_.hdf5',monitor='val_acc',verbose=1,save_best_only=True)\n",
        "history=model.fit(x_train, y_train, validation_data=(x_val, y_val),\n",
        "          epochs=15, batch_size=2,callbacks=[cp])"
      ],
      "execution_count": 54,
      "outputs": [
        {
          "output_type": "stream",
          "text": [
            "Train on 80 samples, validate on 20 samples\n",
            "Epoch 1/15\n",
            "80/80 [==============================] - 28s 351ms/step - loss: 2.5511 - acc: 0.1875 - val_loss: 2.9483 - val_acc: 0.2500\n",
            "\n",
            "Epoch 00001: val_acc improved from -inf to 0.25000, saving model to model_han_.hdf5\n",
            "Epoch 2/15\n",
            "80/80 [==============================] - 28s 349ms/step - loss: 2.1806 - acc: 0.2750 - val_loss: 2.8415 - val_acc: 0.3500\n",
            "\n",
            "Epoch 00002: val_acc improved from 0.25000 to 0.35000, saving model to model_han_.hdf5\n",
            "Epoch 3/15\n",
            "80/80 [==============================] - 28s 350ms/step - loss: 1.6876 - acc: 0.5875 - val_loss: 3.9033 - val_acc: 0.2000\n",
            "\n",
            "Epoch 00003: val_acc did not improve from 0.35000\n",
            "Epoch 4/15\n",
            "80/80 [==============================] - 28s 351ms/step - loss: 1.3917 - acc: 0.6500 - val_loss: 2.5706 - val_acc: 0.4500\n",
            "\n",
            "Epoch 00004: val_acc improved from 0.35000 to 0.45000, saving model to model_han_.hdf5\n",
            "Epoch 5/15\n",
            "50/80 [=================>............] - ETA: 10s - loss: 0.9921 - acc: 0.7000"
          ],
          "name": "stdout"
        },
        {
          "output_type": "stream",
          "text": [
            "80/80 [==============================] - 28s 350ms/step - loss: 1.1223 - acc: 0.6625 - val_loss: 2.4962 - val_acc: 0.5000\n",
            "\n",
            "Epoch 00005: val_acc improved from 0.45000 to 0.50000, saving model to model_han_.hdf5\n",
            "Epoch 6/15\n",
            "80/80 [==============================] - 28s 351ms/step - loss: 0.9457 - acc: 0.7125 - val_loss: 2.4805 - val_acc: 0.4500\n",
            "\n",
            "Epoch 00006: val_acc did not improve from 0.50000\n",
            "Epoch 7/15\n",
            "80/80 [==============================] - 34s 420ms/step - loss: 0.8393 - acc: 0.7625 - val_loss: 1.9323 - val_acc: 0.7000\n",
            "\n",
            "Epoch 00007: val_acc improved from 0.50000 to 0.70000, saving model to model_han_.hdf5\n",
            "Epoch 8/15\n",
            "80/80 [==============================] - 34s 431ms/step - loss: 0.6905 - acc: 0.8375 - val_loss: 2.0766 - val_acc: 0.7000\n",
            "\n",
            "Epoch 00008: val_acc did not improve from 0.70000\n",
            "Epoch 9/15\n",
            "80/80 [==============================] - 33s 413ms/step - loss: 0.6308 - acc: 0.8250 - val_loss: 2.1420 - val_acc: 0.6500\n",
            "\n",
            "Epoch 00009: val_acc did not improve from 0.70000\n",
            "Epoch 10/15\n"
          ],
          "name": "stdout"
        },
        {
          "output_type": "stream",
          "text": [
            "80/80 [==============================] - 38s 474ms/step - loss: 0.5324 - acc: 0.8500 - val_loss: 2.0284 - val_acc: 0.7000\n",
            "\n",
            "Epoch 00010: val_acc did not improve from 0.70000\n",
            "Epoch 11/15\n",
            "80/80 [==============================] - 41s 507ms/step - loss: 0.4603 - acc: 0.8750 - val_loss: 2.2320 - val_acc: 0.6500\n",
            "\n",
            "Epoch 00011: val_acc did not improve from 0.70000\n",
            "Epoch 12/15\n",
            "80/80 [==============================] - 46s 573ms/step - loss: 0.4084 - acc: 0.8875 - val_loss: 2.2356 - val_acc: 0.6500\n",
            "\n",
            "Epoch 00012: val_acc did not improve from 0.70000\n",
            "Epoch 13/15\n",
            "80/80 [==============================] - 53s 668ms/step - loss: 0.3975 - acc: 0.8875 - val_loss: 2.4935 - val_acc: 0.6500\n",
            "\n",
            "Epoch 00013: val_acc did not improve from 0.70000\n",
            "Epoch 14/15\n",
            "80/80 [==============================] - 60s 745ms/step - loss: 0.3789 - acc: 0.8750 - val_loss: 2.1979 - val_acc: 0.7000\n",
            "\n",
            "Epoch 00014: val_acc did not improve from 0.70000\n",
            "Epoch 15/15\n",
            "14/80 [====>.........................] - ETA: 57s - loss: 0.1149 - acc: 1.0000"
          ],
          "name": "stdout"
        },
        {
          "output_type": "stream",
          "text": [
            "80/80 [==============================] - 68s 855ms/step - loss: 0.2603 - acc: 0.9250 - val_loss: 2.3647 - val_acc: 0.7000\n",
            "\n",
            "Epoch 00015: val_acc did not improve from 0.70000\n"
          ],
          "name": "stdout"
        }
      ]
    },
    {
      "metadata": {
        "id": "s2trhmd3RNkk",
        "colab_type": "code",
        "colab": {
          "autoexec": {
            "startup": false,
            "wait_interval": 0
          },
          "base_uri": "https://localhost:8080/",
          "height": 302
        },
        "outputId": "618201e7-902b-4de9-bd5e-e4a05b65c931",
        "executionInfo": {
          "status": "ok",
          "timestamp": 1530793153471,
          "user_tz": -330,
          "elapsed": 2221,
          "user": {
            "displayName": "Akshat Maheshwari",
            "photoUrl": "//lh5.googleusercontent.com/-f-xJkriVoaI/AAAAAAAAAAI/AAAAAAAAAVQ/TLGa4qObGgQ/s50-c-k-no/photo.jpg",
            "userId": "114426356464940466000"
          }
        }
      },
      "cell_type": "code",
      "source": [
        "fig1 = plt.figure()\n",
        "plt.plot(history.history['loss'],'r',linewidth=3.0)\n",
        "plt.plot(history.history['val_loss'],'b',linewidth=3.0)\n",
        "plt.legend(['Training loss', 'Validation Loss'],fontsize=18)\n",
        "plt.xlabel('Epochs ',fontsize=16)\n",
        "plt.ylabel('Loss',fontsize=16)\n",
        "plt.title('Loss Curves :HAN',fontsize=16)\n",
        "fig1.savefig('loss_han.png')\n",
        "plt.show()"
      ],
      "execution_count": 55,
      "outputs": [
        {
          "output_type": "display_data",
          "data": {
            "image/png": "[encoded data removed]",
            "text/plain": [
              "<matplotlib.figure.Figure at 0x7f73e82ecef0>"
            ]
          },
          "metadata": {
            "tags": []
          }
        }
      ]
    },
    {
      "metadata": {
        "id": "ckA37QnERtzu",
        "colab_type": "code",
        "colab": {
          "autoexec": {
            "startup": false,
            "wait_interval": 0
          },
          "base_uri": "https://localhost:8080/",
          "height": 302
        },
        "outputId": "451e6f61-7eec-4904-ed24-e68adec92156",
        "executionInfo": {
          "status": "ok",
          "timestamp": 1530793155073,
          "user_tz": -330,
          "elapsed": 1471,
          "user": {
            "displayName": "Akshat Maheshwari",
            "photoUrl": "//lh5.googleusercontent.com/-f-xJkriVoaI/AAAAAAAAAAI/AAAAAAAAAVQ/TLGa4qObGgQ/s50-c-k-no/photo.jpg",
            "userId": "114426356464940466000"
          }
        }
      },
      "cell_type": "code",
      "source": [
        "fig2=plt.figure()\n",
        "plt.plot(history.history['acc'],'r',linewidth=3.0)\n",
        "plt.plot(history.history['val_acc'],'b',linewidth=3.0)\n",
        "plt.legend(['Training Accuracy', 'Validation Accuracy'],fontsize=18)\n",
        "plt.xlabel('Epochs ',fontsize=16)\n",
        "plt.ylabel('Accuracy',fontsize=16)\n",
        "plt.title('Accuracy Curves : HAN',fontsize=16)\n",
        "fig2.savefig('accuracy_han.png')\n",
        "plt.show()"
      ],
      "execution_count": 56,
      "outputs": [
        {
          "output_type": "display_data",
          "data": {
            "image/png": "[encoded data removed]",
            "text/plain": [
              "<matplotlib.figure.Figure at 0x7f73e8227780>"
            ]
          },
          "metadata": {
            "tags": []
          }
        }
      ]
    },
    {
      "metadata": {
        "id": "gY9XUmT9k6Rb",
        "colab_type": "code",
        "colab": {
          "autoexec": {
            "startup": false,
            "wait_interval": 0
          }
        }
      },
      "cell_type": "code",
      "source": [
        "#from keras.utils.vis_utils import plot_model\n",
        "#plot_model(model, to_file='han_model.png', show_shapes=True, show_layer_names=True)"
      ],
      "execution_count": 0,
      "outputs": []
    },
    {
      "metadata": {
        "id": "oIYhXM6Yoqog",
        "colab_type": "code",
        "colab": {
          "autoexec": {
            "startup": false,
            "wait_interval": 0
          },
          "base_uri": "https://localhost:8080/",
          "height": 422
        },
        "outputId": "dcb579d9-50e0-4a9a-e16e-dc92c33cf0a1",
        "executionInfo": {
          "status": "ok",
          "timestamp": 1530797447889,
          "user_tz": -330,
          "elapsed": 1061,
          "user": {
            "displayName": "Akshat Maheshwari",
            "photoUrl": "//lh5.googleusercontent.com/-f-xJkriVoaI/AAAAAAAAAAI/AAAAAAAAAVQ/TLGa4qObGgQ/s50-c-k-no/photo.jpg",
            "userId": "114426356464940466000"
          }
        }
      },
      "cell_type": "code",
      "source": [
        "from PIL import Image\n",
        "display(Image.open('han_model.png'))"
      ],
      "execution_count": 65,
      "outputs": [
        {
          "output_type": "display_data",
          "data": {
            "image/png": "[encoded data removed]",
            "text/plain": [
              "<PIL.PngImagePlugin.PngImageFile image mode=RGB size=648x405 at 0x7F73E8062160>"
            ]
          },
          "metadata": {
            "tags": []
          }
        }
      ]
    },
    {
      "metadata": {
        "id": "Bc3K9kObo1Zc",
        "colab_type": "code",
        "colab": {
          "autoexec": {
            "startup": false,
            "wait_interval": 0
          }
        }
      },
      "cell_type": "code",
      "source": [
        ""
      ],
      "execution_count": 0,
      "outputs": []
    }
  ]
}